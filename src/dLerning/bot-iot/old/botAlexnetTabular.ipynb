{
 "cells": [
  {
   "cell_type": "code",
   "execution_count": 1,
   "metadata": {},
   "outputs": [
    {
     "name": "stderr",
     "output_type": "stream",
     "text": [
      "/home/luizp/projects/pocs/ml/pibit/lib64/python3.11/site-packages/tqdm/auto.py:21: TqdmWarning: IProgress not found. Please update jupyter and ipywidgets. See https://ipywidgets.readthedocs.io/en/stable/user_install.html\n",
      "  from .autonotebook import tqdm as notebook_tqdm\n"
     ]
    }
   ],
   "source": [
    "from torch import nn\n",
    "from torchvision import transforms\n",
    "from torch.utils.data import DataLoader, Dataset\n",
    "from sklearn.metrics import confusion_matrix\n",
    "from tqdm import tqdm\n",
    "from typing import Tuple\n",
    "from datetime import datetime as dt\n",
    "\n",
    "import random \n",
    "import torch.optim as optim\n",
    "import torch\n",
    "import numpy as np\n",
    "import pandas as pd\n",
    "from sklearn.model_selection import train_test_split\n"
   ]
  },
  {
   "cell_type": "code",
   "execution_count": 2,
   "metadata": {},
   "outputs": [],
   "source": [
    "SEED = 1701\n",
    "EPOCHS = 20\n",
    "MODEL_REPO = \"/home/luiz/pibit/src/cleaner/botClean.csv\"\n",
    "BATCH_SIZE = 128\n",
    "LEARNING_RATE = 1e-3"
   ]
  },
  {
   "cell_type": "code",
   "execution_count": 3,
   "metadata": {},
   "outputs": [],
   "source": [
    "class ToImage:\n",
    "    def __call__(self, array: torch.Tensor, keep_normalization=True):\n",
    "        \"\"\" The idea is to convert a 1d array to a 2d array by resizing (with padding) to the square root of the 1d shape\n",
    "\n",
    "        Ex: \n",
    "            - shape: 2048  \n",
    "            - sqrt(shape) = 45.25 -> round to ceil (46)\n",
    "            - resize the feature vector to 46x46 \n",
    "            - return the new feature vector as a RGB PIL Image for torchvision transforms\n",
    "         \"\"\"\n",
    "        #feat = array.shape[0]\n",
    "        feat = array.shape[0]\n",
    "        n = int(np.ceil(feat ** 0.5))\n",
    "\n",
    "        array = array.cpu().numpy().copy()\n",
    "        \n",
    "        # Squared size with padding\n",
    "        array.resize((n, n))\n",
    "        if not keep_normalization:\n",
    "            return (array * 255).astype(np.uint8)\n",
    "\n",
    "        return torch.Tensor(array.astype(np.float32)).unsqueeze(0)"
   ]
  },
  {
   "cell_type": "code",
   "execution_count": 4,
   "metadata": {},
   "outputs": [],
   "source": [
    "class CustomDataset(Dataset):\n",
    "    \"\"\" Custom dataset class used for applying transforms to the features. \"\"\"\n",
    "    def __init__(self, subset: Tuple[torch.Tensor, torch.Tensor], transform=None):\n",
    "        self.subset = subset\n",
    "        self.transform = transform\n",
    "        \n",
    "    def __getitem__(self, index):\n",
    "        x, y = self.subset[0][index], self.subset[1][index]\n",
    "    \n",
    "        if self.transform:\n",
    "            x = self.transform(x)\n",
    "\n",
    "        return x, y\n",
    "        \n",
    "    def __len__(self):\n",
    "        return self.subset[0].size(0)"
   ]
  },
  {
   "cell_type": "code",
   "execution_count": 5,
   "metadata": {},
   "outputs": [],
   "source": [
    "def validate(device: str, epoch: int, loss_fn, MODEL, dataset: DataLoader):\n",
    "    # Validation\n",
    "    MODEL.eval()\n",
    "    it_eval = tqdm(enumerate(dataset), total=len(dataset))\n",
    "    running_loss = 0.\n",
    "    correct = 0\n",
    "    qt = 1\n",
    "    metrics = dict(tp=0, tn=0, fp=0, fn=0)\n",
    "    y_pred = list()\n",
    "    y_true = list()\n",
    "    with torch.no_grad():\n",
    "        for _, (x, y) in it_eval:\n",
    "            x = x.to(device)\n",
    "            y = y.to(device)\n",
    "\n",
    "            output = MODEL(x)\n",
    "            running_loss += loss_fn(output, y).item()\n",
    "            y_pred.extend(torch.argmax(output, 1).cpu().numpy())\n",
    "            y_true.extend(y.data.cpu().numpy())\n",
    "            correct += torch.sum(torch.argmax(output, 1).eq(y)).item()\n",
    "            qt += len(x)\n",
    "            desc = f\"[{now()}] Epoch {str(epoch).zfill(3)} Val. Acc: {correct/qt:.4f} Val. Loss: {running_loss / len(dataset):.8f}\"\n",
    "            it_eval.set_description(desc)\n",
    "    \n",
    "    tn, fp, fn, tp = confusion_matrix(y_true, y_pred).ravel()\n",
    "    metrics[\"tp\"] = tp\n",
    "    metrics[\"fp\"] = fp\n",
    "    metrics[\"tn\"] = tn\n",
    "    metrics[\"fn\"] = fn\n",
    "    return running_loss / len(dataset), correct/qt, metrics"
   ]
  },
  {
   "cell_type": "code",
   "execution_count": 6,
   "metadata": {},
   "outputs": [],
   "source": [
    "def now():\n",
    "    return dt.now().strftime(\"%d-%m-%Y %H-%M-%S\")"
   ]
  },
  {
   "cell_type": "code",
   "execution_count": 7,
   "metadata": {},
   "outputs": [],
   "source": [
    "def train(device: str, epoch: int, optimizer, loss_fn, MODEL, dataset: DataLoader):\n",
    "    # Put the MODEL in the training mode\n",
    "    MODEL.train()\n",
    "    running_loss = 0.\n",
    "    qt = 1\n",
    "    correct = 0\n",
    "\n",
    "    # Just add a fancy progress bar to the terminal...\n",
    "    it = tqdm(enumerate(dataset), total=len(dataset))\n",
    "\n",
    "    for _, (x, y) in it:\n",
    "        x = x.to(device)\n",
    "        y = y.to(device)\n",
    "        \n",
    "        # Make predictions for this batch\n",
    "        outputs = MODEL(x)\n",
    "\n",
    "        # Zero your gradients for every batch!\n",
    "        optimizer.zero_grad()\n",
    "        loss = loss_fn(outputs, y)\n",
    "        loss.backward()\n",
    "\n",
    "        # Adjust learning weights\n",
    "        optimizer.step()\n",
    "        correct += torch.sum(torch.argmax(outputs, 1).eq(y)).item()\n",
    "        qt += len(x)\n",
    "    \n",
    "        # Gather data and report\n",
    "        running_loss += loss.item()\n",
    "\n",
    "        desc = f\"[{now()}] Epoch {str(epoch).zfill(3)} Acc: {correct/qt:.4f} Loss: {running_loss / len(dataset):.8f}\"\n",
    "        it.set_description(desc)\n",
    "    \n",
    "    # Loss / Accuracy\n",
    "    return running_loss / len(dataset), correct/qt"
   ]
  },
  {
   "cell_type": "code",
   "execution_count": 8,
   "metadata": {},
   "outputs": [],
   "source": [
    "class AlexNet(nn.Module):\n",
    "  def __init__(self, num_classes=2):\n",
    "    super(AlexNet, self).__init__()\n",
    "    self.features = nn.Sequential(\n",
    "      nn.Conv2d(1, 128, kernel_size=7, stride=4, padding=2),\n",
    "        nn.ReLU(inplace=True),\n",
    "        nn.MaxPool2d(kernel_size=1, stride=2),\n",
    "        nn.Conv2d(128, 128, kernel_size=1, padding=2),\n",
    "        nn.ReLU(inplace=True),\n",
    "        nn.MaxPool2d(kernel_size=3, stride=2),\n",
    "        nn.Conv2d(128, 128, kernel_size=2, padding=1),\n",
    "        nn.ReLU(inplace=True),            \n",
    "        nn.Conv2d(128, 128, kernel_size=3, padding=1),\n",
    "        nn.ReLU(inplace=True),            \n",
    "        nn.Conv2d(128, 128, kernel_size=3, padding=1),\n",
    "        nn.ReLU(inplace=True),\n",
    "        nn.MaxPool2d(kernel_size=3, stride=2),\n",
    "    )\n",
    "        \n",
    "    self.avgpool = nn.AdaptiveAvgPool2d((6, 6))\n",
    "    self.classifier = nn.Sequential(\n",
    "      nn.Dropout(),\n",
    "      nn.Linear(4608, 128),\n",
    "      nn.ReLU(inplace=True),            \n",
    "      nn.Dropout(),\n",
    "      nn.Linear(128, 128),\n",
    "      nn.ReLU(inplace=True),            \n",
    "      nn.Linear(128, num_classes)\n",
    "    )\n",
    "\n",
    "  def forward(self, x):\n",
    "    x = self.features(x)\n",
    "    x = self.avgpool(x)\n",
    "    x = torch.flatten(x, 1)\n",
    "    x = self.classifier(x)\n",
    "    return x"
   ]
  },
  {
   "cell_type": "code",
   "execution_count": 9,
   "metadata": {},
   "outputs": [
    {
     "data": {
      "text/plain": [
       "True"
      ]
     },
     "execution_count": 9,
     "metadata": {},
     "output_type": "execute_result"
    }
   ],
   "source": [
    "torch.cuda.is_available()"
   ]
  },
  {
   "cell_type": "code",
   "execution_count": 10,
   "metadata": {},
   "outputs": [],
   "source": [
    "def no_update():\n",
    "    # Reproducibility\n",
    "    torch.manual_seed(SEED)\n",
    "    np.random.seed(SEED)\n",
    "    random.seed(SEED)\n",
    "\n",
    "    device = 'cuda' if torch.cuda.is_available() else 'cpu'\n",
    "    print(device)\n",
    "\n",
    "    MODEL = AlexNet().to('cuda')\n",
    "\n",
    "    #if MODEL is None or not isinstance(nn.Module):\n",
    "    #    raise TypeError(\"The model does not exist or isn't an instance of nn.Module (PyTorch)\")\n",
    "    \n",
    "    transform = transforms.Compose([\n",
    "        ToImage(),\n",
    "    ])\n",
    "    csv_path = \"../../pibit/src/cleaner/botClean.csv\"\n",
    "    df = pd.read_csv(csv_path)\n",
    "    y = df.iloc[:, -1].values\n",
    "    x = df.iloc[:, :-1].values\n",
    "    y = y[::-1]\n",
    "    x = np.squeeze(x)\n",
    "    #x = x.reshape((1, -1))\n",
    "    x_train, x_test, y_train, y_test = train_test_split(\n",
    "        x, y, test_size=0.1, random_state=42\n",
    "    )\n",
    "\n",
    "    #raise Exception(\"Precisa carregar e separar (treino, validação e teste) um dataset qualquer para executar\")\n",
    "    x_train = torch.Tensor(x_train)\n",
    "    y_train = torch.LongTensor(y_train)\n",
    "    x_test  = torch.Tensor(x_test)\n",
    "    y_test  = torch.LongTensor(y_test)\n",
    "    #x_val   = torch.Tensor(x_val)\n",
    "    #y_val   = torch.LongTensor(y_val)\n",
    "\n",
    "    # A parte de fazer o reshape está quando passo uma transformada (ToImage()) como parâmetro\n",
    "    cd_train = CustomDataset(subset=(x_train, y_train), transform=transform)\n",
    "    cd_test  = CustomDataset(subset=(x_test, y_test), transform=transform)\n",
    "    #cd_val   = CustomDataset(subset=(X_val, y_val), transform=transform)\n",
    "\n",
    "    data_train = DataLoader(cd_train, shuffle=True, batch_size=BATCH_SIZE, num_workers=8)\n",
    "    data_test  = DataLoader(cd_test, shuffle=True, batch_size=BATCH_SIZE, num_workers=8)\n",
    "    #data_val   = DataLoader(cd_val, shuffle=True, batch_size=BATCH_SIZE, num_workers=8)\n",
    "\n",
    "    loss_fn   = nn.CrossEntropyLoss()\n",
    "    optimizer = optim.Adam(MODEL.parameters(), lr=LEARNING_RATE)\n",
    "\n",
    "    for epoch in range(1, EPOCHS + 1):\n",
    "        train_loss, train_acc = train(device, epoch, optimizer, loss_fn, MODEL, data_train)\n",
    "        #val_loss, val_acc, _ = validate(device, epoch, optimizer, loss_fn, MODEL, data_val)\n",
    "\n",
    "        _, _, metrics = validate(device, epoch, loss_fn, MODEL, data_test)\n",
    "        print(metrics)\n"
   ]
  },
  {
   "cell_type": "code",
   "execution_count": 11,
   "metadata": {},
   "outputs": [
    {
     "name": "stdout",
     "output_type": "stream",
     "text": [
      "cuda\n"
     ]
    },
    {
     "name": "stderr",
     "output_type": "stream",
     "text": [
      "[17-01-2024 13-05-33] Epoch 001 Acc: 0.9991 Loss: 0.01371267: 100%|██████████| 3516/3516 [01:11<00:00, 49.17it/s]\n",
      "[17-01-2024 13-05-37] Epoch 001 Val. Acc: 0.9990 Val. Loss: 0.00833749: 100%|██████████| 391/391 [00:04<00:00, 96.77it/s] \n"
     ]
    },
    {
     "name": "stdout",
     "output_type": "stream",
     "text": [
      "{'tp': 0, 'tn': 49949, 'fp': 0, 'fn': 51}\n"
     ]
    },
    {
     "name": "stderr",
     "output_type": "stream",
     "text": [
      "[17-01-2024 13-06-54] Epoch 002 Acc: 0.9991 Loss: 0.00933641: 100%|██████████| 3516/3516 [01:16<00:00, 45.92it/s]\n",
      "[17-01-2024 13-06-58] Epoch 002 Val. Acc: 0.9990 Val. Loss: 0.00804073: 100%|██████████| 391/391 [00:04<00:00, 92.32it/s]\n"
     ]
    },
    {
     "name": "stdout",
     "output_type": "stream",
     "text": [
      "{'tp': 0, 'tn': 49949, 'fp': 0, 'fn': 51}\n"
     ]
    },
    {
     "name": "stderr",
     "output_type": "stream",
     "text": [
      "[17-01-2024 13-08-17] Epoch 003 Acc: 0.9991 Loss: 0.00835600: 100%|██████████| 3516/3516 [01:18<00:00, 44.99it/s]\n",
      "[17-01-2024 13-08-21] Epoch 003 Val. Acc: 0.9990 Val. Loss: 0.00991317: 100%|██████████| 391/391 [00:04<00:00, 94.94it/s]\n"
     ]
    },
    {
     "name": "stdout",
     "output_type": "stream",
     "text": [
      "{'tp': 0, 'tn': 49949, 'fp': 0, 'fn': 51}\n"
     ]
    },
    {
     "name": "stderr",
     "output_type": "stream",
     "text": [
      "[17-01-2024 13-09-41] Epoch 004 Acc: 0.9991 Loss: 0.00827173: 100%|██████████| 3516/3516 [01:19<00:00, 44.15it/s]\n",
      "[17-01-2024 13-09-46] Epoch 004 Val. Acc: 0.9990 Val. Loss: 0.00827812: 100%|██████████| 391/391 [00:04<00:00, 89.58it/s]\n"
     ]
    },
    {
     "name": "stdout",
     "output_type": "stream",
     "text": [
      "{'tp': 0, 'tn': 49949, 'fp': 0, 'fn': 51}\n"
     ]
    },
    {
     "name": "stderr",
     "output_type": "stream",
     "text": [
      "[17-01-2024 13-11-07] Epoch 005 Acc: 0.9991 Loss: 0.00790517: 100%|██████████| 3516/3516 [01:20<00:00, 43.70it/s]\n",
      "[17-01-2024 13-11-11] Epoch 005 Val. Acc: 0.9990 Val. Loss: 0.00812390: 100%|██████████| 391/391 [00:04<00:00, 89.75it/s]\n"
     ]
    },
    {
     "name": "stdout",
     "output_type": "stream",
     "text": [
      "{'tp': 0, 'tn': 49949, 'fp': 0, 'fn': 51}\n"
     ]
    },
    {
     "name": "stderr",
     "output_type": "stream",
     "text": [
      "[17-01-2024 13-12-33] Epoch 006 Acc: 0.9991 Loss: 0.00766364: 100%|██████████| 3516/3516 [01:21<00:00, 43.21it/s]\n",
      "[17-01-2024 13-12-38] Epoch 006 Val. Acc: 0.9990 Val. Loss: 0.00843223: 100%|██████████| 391/391 [00:04<00:00, 87.75it/s]\n"
     ]
    },
    {
     "name": "stdout",
     "output_type": "stream",
     "text": [
      "{'tp': 0, 'tn': 49949, 'fp': 0, 'fn': 51}\n"
     ]
    },
    {
     "name": "stderr",
     "output_type": "stream",
     "text": [
      "[17-01-2024 13-14-00] Epoch 007 Acc: 0.9991 Loss: 0.00766413: 100%|██████████| 3516/3516 [01:21<00:00, 43.00it/s]\n",
      "[17-01-2024 13-14-04] Epoch 007 Val. Acc: 0.9990 Val. Loss: 0.00804377: 100%|██████████| 391/391 [00:04<00:00, 88.55it/s]\n"
     ]
    },
    {
     "name": "stdout",
     "output_type": "stream",
     "text": [
      "{'tp': 0, 'tn': 49949, 'fp': 0, 'fn': 51}\n"
     ]
    },
    {
     "name": "stderr",
     "output_type": "stream",
     "text": [
      "[17-01-2024 13-15-29] Epoch 008 Acc: 0.9991 Loss: 0.00763732: 100%|██████████| 3516/3516 [01:24<00:00, 41.76it/s]\n",
      "[17-01-2024 13-15-33] Epoch 008 Val. Acc: 0.9990 Val. Loss: 0.00808509: 100%|██████████| 391/391 [00:04<00:00, 92.39it/s]\n"
     ]
    },
    {
     "name": "stdout",
     "output_type": "stream",
     "text": [
      "{'tp': 0, 'tn': 49949, 'fp': 0, 'fn': 51}\n"
     ]
    },
    {
     "name": "stderr",
     "output_type": "stream",
     "text": [
      "[17-01-2024 13-17-02] Epoch 009 Acc: 0.9991 Loss: 0.00762502: 100%|██████████| 3516/3516 [01:28<00:00, 39.61it/s]\n",
      "[17-01-2024 13-17-07] Epoch 009 Val. Acc: 0.9990 Val. Loss: 0.00804565: 100%|██████████| 391/391 [00:04<00:00, 92.09it/s]\n"
     ]
    },
    {
     "name": "stdout",
     "output_type": "stream",
     "text": [
      "{'tp': 0, 'tn': 49949, 'fp': 0, 'fn': 51}\n"
     ]
    },
    {
     "name": "stderr",
     "output_type": "stream",
     "text": [
      "[17-01-2024 13-18-45] Epoch 010 Acc: 0.9991 Loss: 0.00763468: 100%|██████████| 3516/3516 [01:37<00:00, 36.15it/s]\n",
      "[17-01-2024 13-18-49] Epoch 010 Val. Acc: 0.9990 Val. Loss: 0.00804406: 100%|██████████| 391/391 [00:04<00:00, 92.57it/s]\n"
     ]
    },
    {
     "name": "stdout",
     "output_type": "stream",
     "text": [
      "{'tp': 0, 'tn': 49949, 'fp': 0, 'fn': 51}\n"
     ]
    },
    {
     "name": "stderr",
     "output_type": "stream",
     "text": [
      "[17-01-2024 13-20-18] Epoch 011 Acc: 0.9991 Loss: 0.00954055: 100%|██████████| 3516/3516 [01:28<00:00, 39.57it/s]\n",
      "[17-01-2024 13-20-23] Epoch 011 Val. Acc: 0.9990 Val. Loss: 0.00915355: 100%|██████████| 391/391 [00:04<00:00, 96.09it/s]\n"
     ]
    },
    {
     "name": "stdout",
     "output_type": "stream",
     "text": [
      "{'tp': 0, 'tn': 49949, 'fp': 0, 'fn': 51}\n"
     ]
    },
    {
     "name": "stderr",
     "output_type": "stream",
     "text": [
      "[17-01-2024 13-21-42] Epoch 012 Acc: 0.9991 Loss: 0.00784138: 100%|██████████| 3516/3516 [01:18<00:00, 44.76it/s]\n",
      "[17-01-2024 13-21-46] Epoch 012 Val. Acc: 0.9990 Val. Loss: 0.00806245: 100%|██████████| 391/391 [00:04<00:00, 95.98it/s]\n"
     ]
    },
    {
     "name": "stdout",
     "output_type": "stream",
     "text": [
      "{'tp': 0, 'tn': 49949, 'fp': 0, 'fn': 51}\n"
     ]
    },
    {
     "name": "stderr",
     "output_type": "stream",
     "text": [
      "[17-01-2024 13-23-04] Epoch 013 Acc: 0.9991 Loss: 0.00762851: 100%|██████████| 3516/3516 [01:18<00:00, 44.95it/s]\n",
      "[17-01-2024 13-23-09] Epoch 013 Val. Acc: 0.9990 Val. Loss: 0.00817182: 100%|██████████| 391/391 [00:04<00:00, 92.17it/s]\n"
     ]
    },
    {
     "name": "stdout",
     "output_type": "stream",
     "text": [
      "{'tp': 0, 'tn': 49949, 'fp': 0, 'fn': 51}\n"
     ]
    },
    {
     "name": "stderr",
     "output_type": "stream",
     "text": [
      "[17-01-2024 13-24-28] Epoch 014 Acc: 0.9991 Loss: 0.00758672: 100%|██████████| 3516/3516 [01:18<00:00, 44.87it/s]\n",
      "[17-01-2024 13-24-32] Epoch 014 Val. Acc: 0.9990 Val. Loss: 0.00811244: 100%|██████████| 391/391 [00:04<00:00, 91.77it/s]\n"
     ]
    },
    {
     "name": "stdout",
     "output_type": "stream",
     "text": [
      "{'tp': 0, 'tn': 49949, 'fp': 0, 'fn': 51}\n"
     ]
    },
    {
     "name": "stderr",
     "output_type": "stream",
     "text": [
      "[17-01-2024 13-25-51] Epoch 015 Acc: 0.9991 Loss: 0.01158754: 100%|██████████| 3516/3516 [01:18<00:00, 44.86it/s]\n",
      "[17-01-2024 13-25-55] Epoch 015 Val. Acc: 0.9990 Val. Loss: 0.00893141: 100%|██████████| 391/391 [00:04<00:00, 95.55it/s]\n"
     ]
    },
    {
     "name": "stdout",
     "output_type": "stream",
     "text": [
      "{'tp': 0, 'tn': 49949, 'fp': 0, 'fn': 51}\n"
     ]
    },
    {
     "name": "stderr",
     "output_type": "stream",
     "text": [
      "[17-01-2024 13-27-14] Epoch 016 Acc: 0.9991 Loss: 0.00793733: 100%|██████████| 3516/3516 [01:18<00:00, 44.90it/s]\n",
      "[17-01-2024 13-27-18] Epoch 016 Val. Acc: 0.9990 Val. Loss: 0.00807012: 100%|██████████| 391/391 [00:04<00:00, 96.35it/s]\n"
     ]
    },
    {
     "name": "stdout",
     "output_type": "stream",
     "text": [
      "{'tp': 0, 'tn': 49949, 'fp': 0, 'fn': 51}\n"
     ]
    },
    {
     "name": "stderr",
     "output_type": "stream",
     "text": [
      "[17-01-2024 13-28-37] Epoch 017 Acc: 0.9991 Loss: 0.00784509: 100%|██████████| 3516/3516 [01:18<00:00, 44.84it/s]\n",
      "[17-01-2024 13-28-42] Epoch 017 Val. Acc: 0.9990 Val. Loss: 0.00806483: 100%|██████████| 391/391 [00:04<00:00, 90.48it/s]\n"
     ]
    },
    {
     "name": "stdout",
     "output_type": "stream",
     "text": [
      "{'tp': 0, 'tn': 49949, 'fp': 0, 'fn': 51}\n"
     ]
    },
    {
     "name": "stderr",
     "output_type": "stream",
     "text": [
      "[17-01-2024 13-30-00] Epoch 018 Acc: 0.9991 Loss: 0.00758805: 100%|██████████| 3516/3516 [01:18<00:00, 44.90it/s]\n",
      "[17-01-2024 13-30-05] Epoch 018 Val. Acc: 0.9990 Val. Loss: 0.00822665: 100%|██████████| 391/391 [00:04<00:00, 90.98it/s]\n"
     ]
    },
    {
     "name": "stdout",
     "output_type": "stream",
     "text": [
      "{'tp': 0, 'tn': 49949, 'fp': 0, 'fn': 51}\n"
     ]
    },
    {
     "name": "stderr",
     "output_type": "stream",
     "text": [
      "[17-01-2024 13-31-23] Epoch 019 Acc: 0.9991 Loss: 0.00758863: 100%|██████████| 3516/3516 [01:18<00:00, 44.90it/s]\n",
      "[17-01-2024 13-31-28] Epoch 019 Val. Acc: 0.9990 Val. Loss: 0.00807164: 100%|██████████| 391/391 [00:04<00:00, 90.80it/s]\n"
     ]
    },
    {
     "name": "stdout",
     "output_type": "stream",
     "text": [
      "{'tp': 0, 'tn': 49949, 'fp': 0, 'fn': 51}\n"
     ]
    },
    {
     "name": "stderr",
     "output_type": "stream",
     "text": [
      "[17-01-2024 13-32-47] Epoch 020 Acc: 0.9991 Loss: 0.00758739: 100%|██████████| 3516/3516 [01:18<00:00, 44.83it/s]\n",
      "[17-01-2024 13-32-51] Epoch 020 Val. Acc: 0.9990 Val. Loss: 0.00803751: 100%|██████████| 391/391 [00:04<00:00, 90.92it/s]\n"
     ]
    },
    {
     "name": "stdout",
     "output_type": "stream",
     "text": [
      "{'tp': 0, 'tn': 49949, 'fp': 0, 'fn': 51}\n",
      "Finished experiment!\n"
     ]
    }
   ],
   "source": [
    "if __name__ == \"__main__\":\n",
    "    no_update()\n",
    "    print(\"Finished experiment!\")"
   ]
  },
  {
   "cell_type": "code",
   "execution_count": null,
   "metadata": {},
   "outputs": [],
   "source": []
  }
 ],
 "metadata": {
  "kernelspec": {
   "display_name": "Python 3",
   "language": "python",
   "name": "python3"
  },
  "language_info": {
   "codemirror_mode": {
    "name": "ipython",
    "version": 3
   },
   "file_extension": ".py",
   "mimetype": "text/x-python",
   "name": "python",
   "nbconvert_exporter": "python",
   "pygments_lexer": "ipython3",
   "version": "3.11.6"
  }
 },
 "nbformat": 4,
 "nbformat_minor": 2
}
