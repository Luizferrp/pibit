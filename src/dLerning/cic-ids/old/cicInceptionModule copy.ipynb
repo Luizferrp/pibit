{
 "cells": [
  {
   "cell_type": "code",
   "execution_count": 1,
   "metadata": {},
   "outputs": [
    {
     "name": "stderr",
     "output_type": "stream",
     "text": [
      "/home/luizp/projects/pibit/pibit/lib64/python3.11/site-packages/tqdm/auto.py:21: TqdmWarning: IProgress not found. Please update jupyter and ipywidgets. See https://ipywidgets.readthedocs.io/en/stable/user_install.html\n",
      "  from .autonotebook import tqdm as notebook_tqdm\n"
     ]
    }
   ],
   "source": [
    "from torch import nn\n",
    "from torchvision import transforms\n",
    "from torch.utils.data import DataLoader, Dataset\n",
    "from sklearn.metrics import confusion_matrix\n",
    "from tqdm import tqdm\n",
    "from typing import Tuple\n",
    "from datetime import datetime as dt\n",
    "import torch.nn.functional as F\n",
    "import random \n",
    "import torch.optim as optim\n",
    "import torch\n",
    "import numpy as np\n",
    "import pandas as pd\n",
    "from sklearn.model_selection import train_test_split\n"
   ]
  },
  {
   "cell_type": "code",
   "execution_count": 50,
   "metadata": {},
   "outputs": [],
   "source": [
    "SEED = 1701\n",
    "EPOCHS = 20\n",
    "MODEL_REPO = \"/home/luizp/projects/pibit/src/cleaner/cicClean.csv\"\n",
    "BATCH_SIZE = 128\n",
    "LEARNING_RATE = 1e-3"
   ]
  },
  {
   "cell_type": "code",
   "execution_count": 51,
   "metadata": {},
   "outputs": [],
   "source": [
    "class ToImage:\n",
    "    def __call__(self, array: torch.Tensor, keep_normalization=True):\n",
    "        \"\"\" The idea is to convert a 1d array to a 2d array by resizing (with padding) to the square root of the 1d shape\n",
    "\n",
    "        Ex: \n",
    "            - shape: 2048  \n",
    "            - sqrt(shape) = 45.25 -> round to ceil (46)\n",
    "            - resize the feature vector to 46x46 \n",
    "            - return the new feature vector as a RGB PIL Image for torchvision transforms\n",
    "         \"\"\"\n",
    "        #feat = array.shape[0]\n",
    "        feat = array.shape[0]\n",
    "        n = int(np.ceil(feat ** 0.5))\n",
    "\n",
    "        array = array.cpu().numpy().copy()\n",
    "        \n",
    "        # Squared size with padding\n",
    "        array.resize((n, n))\n",
    "        if not keep_normalization:\n",
    "            return (array * 255).astype(np.uint8)\n",
    "\n",
    "        return torch.Tensor(array.astype(np.float32)).unsqueeze(0)"
   ]
  },
  {
   "cell_type": "code",
   "execution_count": 52,
   "metadata": {},
   "outputs": [],
   "source": [
    "class CustomDataset(Dataset):\n",
    "    \"\"\" Custom dataset class used for applying transforms to the features. \"\"\"\n",
    "    def __init__(self, subset: Tuple[torch.Tensor, torch.Tensor], transform=None):\n",
    "        self.subset = subset\n",
    "        self.transform = transform\n",
    "        \n",
    "    def __getitem__(self, index):\n",
    "        x, y = self.subset[0][index], self.subset[1][index]\n",
    "    \n",
    "        if self.transform:\n",
    "            x = self.transform(x)\n",
    "\n",
    "        return x, y\n",
    "        \n",
    "    def __len__(self):\n",
    "        return self.subset[0].size(0)"
   ]
  },
  {
   "cell_type": "code",
   "execution_count": 53,
   "metadata": {},
   "outputs": [],
   "source": [
    "metrics = dict(tp=0, tn=0, fp=0, fn=0)\n",
    "allmetrics = []\n"
   ]
  },
  {
   "cell_type": "code",
   "execution_count": 54,
   "metadata": {},
   "outputs": [],
   "source": [
    "def validate(device: str, epoch: int, loss_fn, MODEL, dataset: DataLoader):\n",
    "    # Validation\n",
    "    MODEL.eval()\n",
    "    it_eval = tqdm(enumerate(dataset), total=len(dataset))\n",
    "    running_loss = 0.\n",
    "    correct = 0\n",
    "    qt = 1\n",
    "    y_pred = list()\n",
    "    y_true = list()\n",
    "    with torch.no_grad():\n",
    "        for _, (x, y) in it_eval:\n",
    "            x = x.to(device)\n",
    "            y = y.to(device)\n",
    "\n",
    "            output = MODEL(x)\n",
    "            running_loss += loss_fn(output, y).item()\n",
    "            y_pred.extend(torch.argmax(output, 1).cpu().numpy())\n",
    "            y_true.extend(y.data.cpu().numpy())\n",
    "            correct += torch.sum(torch.argmax(output, 1).eq(y)).item()\n",
    "            qt += len(x)\n",
    "            desc = f\"[{now()}] Epoch {str(epoch).zfill(3)} Val. Acc: {correct/qt:.4f} Val. Loss: {running_loss / len(dataset):.8f}\"\n",
    "            it_eval.set_description(desc)\n",
    "    \n",
    "    tn, fp, fn, tp = confusion_matrix(y_true, y_pred).ravel()\n",
    "    metrics[\"tp\"] = tp\n",
    "    metrics[\"fp\"] = fp\n",
    "    metrics[\"tn\"] = tn\n",
    "    metrics[\"fn\"] = fn\n",
    "    return running_loss / len(dataset), correct/qt, metrics"
   ]
  },
  {
   "cell_type": "code",
   "execution_count": 55,
   "metadata": {},
   "outputs": [],
   "source": [
    "def now():\n",
    "    return dt.now().strftime(\"%d-%m-%Y %H-%M-%S\")"
   ]
  },
  {
   "cell_type": "code",
   "execution_count": 56,
   "metadata": {},
   "outputs": [],
   "source": [
    "def train(device: str, epoch: int, optimizer, loss_fn, MODEL, dataset: DataLoader):\n",
    "    # Put the MODEL in the training mode\n",
    "    MODEL.train()\n",
    "    running_loss = 0.\n",
    "    qt = 1\n",
    "    correct = 0\n",
    "\n",
    "    # Just add a fancy progress bar to the terminal...\n",
    "    it = tqdm(enumerate(dataset), total=len(dataset))\n",
    "\n",
    "    for _, (x, y) in it:\n",
    "        x = x.to(device)\n",
    "        y = y.to(device)\n",
    "        \n",
    "        # Make predictions for this batch\n",
    "        outputs = MODEL(x)\n",
    "\n",
    "        # Zero your gradients for every batch!\n",
    "        optimizer.zero_grad()\n",
    "        loss = loss_fn(outputs, y)\n",
    "        loss.backward()\n",
    "\n",
    "        # Adjust learning weights\n",
    "        optimizer.step()\n",
    "        correct += torch.sum(torch.argmax(outputs, 1).eq(y)).item()\n",
    "        qt += len(x)\n",
    "    \n",
    "        # Gather data and report\n",
    "        running_loss += loss.item()\n",
    "\n",
    "        desc = f\"[{now()}] Epoch {str(epoch).zfill(3)} Acc: {correct/qt:.4f} Loss: {running_loss / len(dataset):.8f}\"\n",
    "        it.set_description(desc)\n",
    "    \n",
    "    # Loss / Accuracy\n",
    "    return running_loss / len(dataset), correct/qt"
   ]
  },
  {
   "cell_type": "code",
   "execution_count": 57,
   "metadata": {},
   "outputs": [],
   "source": [
    "class InceptionModule(nn.Module):\n",
    "    def __init__(self, in_channels, out1x1, red3x3, out3x3, red5x5, out5x5, pool_proj):\n",
    "        super(InceptionModule, self).__init__()\n",
    "\n",
    "        # 1x1 convolution branch\n",
    "        self.branch1x1 = nn.Conv2d(in_channels, out1x1, kernel_size=1)\n",
    "\n",
    "        # 1x1 convolution followed by 3x3 convolution branch\n",
    "        self.branch3x3 = nn.Sequential(\n",
    "            nn.Conv2d(in_channels, red3x3, kernel_size=1),\n",
    "            nn.Conv2d(red3x3, out3x3, kernel_size=3, padding=1)\n",
    "        )\n",
    "\n",
    "        # 1x1 convolution followed by 5x5 convolution branch\n",
    "        self.branch5x5 = nn.Sequential(\n",
    "            nn.Conv2d(in_channels, red5x5, kernel_size=1),\n",
    "            nn.Conv2d(red5x5, out5x5, kernel_size=5, padding=2)\n",
    "        )\n",
    "\n",
    "        # 3x3 max pooling followed by 1x1 convolution branch\n",
    "        self.branch_pool = nn.Sequential(\n",
    "            nn.MaxPool2d(kernel_size=3, stride=1, padding=1),\n",
    "            nn.Conv2d(in_channels, pool_proj, kernel_size=1)\n",
    "        )\n",
    "\n",
    "    def forward(self, x):\n",
    "        branch1x1 = self.branch1x1(x)\n",
    "        branch3x3 = self.branch3x3(x)\n",
    "        branch5x5 = self.branch5x5(x)\n",
    "        branch_pool = self.branch_pool(x)\n",
    "\n",
    "        # Concatenate the branches along the channel dimension\n",
    "        outputs = [branch1x1, branch3x3, branch5x5, branch_pool]\n",
    "        return torch.cat(outputs, 1)\n",
    "\n",
    "class GoogleNet(nn.Module):\n",
    "    def __init__(self, num_classes=2):\n",
    "        super(GoogleNet, self).__init__()\n",
    "\n",
    "        # Initial convolution layers\n",
    "        self.conv1 = nn.Conv2d(1, 128, kernel_size=7, stride=2, padding=3)\n",
    "        self.maxpool1 = nn.MaxPool2d(kernel_size=3, stride=2, padding=1)\n",
    "\n",
    "        # Inception modules\n",
    "        self.inception1 = InceptionModule(128, 128, 128, 128, 32, 32, 32)\n",
    "        self.inception2 = InceptionModule(320, 128, 192, 192, 96, 96, 64)\n",
    "\n",
    "        # ...\n",
    "\n",
    "        # You can add more Inception modules as needed\n",
    "\n",
    "        # Final fully connected layer\n",
    "        self.fc = nn.Linear(480, num_classes)\n",
    "\n",
    "    def forward(self, x):\n",
    "        x = F.relu(self.conv1(x))\n",
    "        x = self.maxpool1(x)\n",
    "        x = self.inception1(x)\n",
    "        x = self.inception2(x)\n",
    "\n",
    "        # ...\n",
    "\n",
    "        # You can add more Inception modules as needed\n",
    "\n",
    "        # Global average pooling\n",
    "        x = F.adaptive_avg_pool2d(x, (1, 1))\n",
    "        x = x.view(x.size(0), -1)\n",
    "\n",
    "        # Final fully connected layer\n",
    "        x = self.fc(x)\n",
    "        return x"
   ]
  },
  {
   "cell_type": "code",
   "execution_count": 58,
   "metadata": {},
   "outputs": [
    {
     "data": {
      "text/plain": [
       "True"
      ]
     },
     "execution_count": 58,
     "metadata": {},
     "output_type": "execute_result"
    }
   ],
   "source": [
    "torch.cuda.is_available()"
   ]
  },
  {
   "cell_type": "code",
   "execution_count": 59,
   "metadata": {},
   "outputs": [],
   "source": [
    "def no_update():\n",
    "    # Reproducibility\n",
    "    torch.manual_seed(SEED)\n",
    "    np.random.seed(SEED)\n",
    "    random.seed(SEED)\n",
    "\n",
    "    device = 'cuda' if torch.cuda.is_available() else 'cpu'\n",
    "    print(device)\n",
    "\n",
    "    MODEL = GoogleNet().to('cuda')\n",
    "\n",
    "    #if MODEL is None or not isinstance(nn.Module):\n",
    "    #    raise TypeError(\"The model does not exist or isn't an instance of nn.Module (PyTorch)\")\n",
    "    \n",
    "    transform = transforms.Compose([\n",
    "        ToImage(),\n",
    "    ])\n",
    "    csv_path = \"/home/luizp/projects/pibit/src/cleaner/cicClean.csv\"\n",
    "    df = pd.read_csv(csv_path)\n",
    "    y = df.iloc[:, -1].values\n",
    "    x = df.iloc[:, :-1].values\n",
    "    y = y[::-1]\n",
    "    x = np.squeeze(x)\n",
    "    #x = x.reshape((1, -1))\n",
    "    x_train, x_test, y_train, y_test = train_test_split(\n",
    "        x, y, test_size=0.1, random_state=42\n",
    "    )\n",
    "\n",
    "    #raise Exception(\"Precisa carregar e separar (treino, validação e teste) um dataset qualquer para executar\")\n",
    "    x_train = torch.Tensor(x_train)\n",
    "    y_train = torch.LongTensor(y_train)\n",
    "    x_test  = torch.Tensor(x_test)\n",
    "    y_test  = torch.LongTensor(y_test)\n",
    "    #x_val   = torch.Tensor(x_val)\n",
    "    #y_val   = torch.LongTensor(y_val)\n",
    "\n",
    "    # A parte de fazer o reshape está quando passo uma transformada (ToImage()) como parâmetro\n",
    "    cd_train = CustomDataset(subset=(x_train, y_train), transform=transform)\n",
    "    cd_test  = CustomDataset(subset=(x_test, y_test), transform=transform)\n",
    "    #cd_val   = CustomDataset(subset=(X_val, y_val), transform=transform)\n",
    "\n",
    "    data_train = DataLoader(cd_train, shuffle=True, batch_size=BATCH_SIZE, num_workers=8)\n",
    "    data_test  = DataLoader(cd_test, shuffle=True, batch_size=BATCH_SIZE, num_workers=8)\n",
    "    #data_val   = DataLoader(cd_val, shuffle=True, batch_size=BATCH_SIZE, num_workers=8)\n",
    "\n",
    "    loss_fn   = nn.CrossEntropyLoss()\n",
    "    optimizer = optim.Adam(MODEL.parameters(), lr=LEARNING_RATE)\n",
    "\n",
    "    for epoch in range(1, EPOCHS + 1):\n",
    "        train_loss, train_acc = train(device, epoch, optimizer, loss_fn, MODEL, data_train)\n",
    "        #val_loss, val_acc, _ = validate(device, epoch, optimizer, loss_fn, MODEL, data_val)\n",
    "\n",
    "        _, _, allmetrics.append(validate(device, epoch, loss_fn, MODEL, data_test))\n",
    "        print(metrics)\n"
   ]
  },
  {
   "cell_type": "code",
   "execution_count": 60,
   "metadata": {},
   "outputs": [
    {
     "name": "stdout",
     "output_type": "stream",
     "text": [
      "cuda\n"
     ]
    },
    {
     "name": "stderr",
     "output_type": "stream",
     "text": [
      "[07-02-2024 00-55-22] Epoch 001 Acc: 0.9966 Loss: 0.01140767: 100%|██████████| 7032/7032 [04:08<00:00, 28.35it/s]\n",
      "[07-02-2024 00-55-34] Epoch 001 Val. Acc: 0.9989 Val. Loss: 0.00321662: 100%|██████████| 782/782 [00:11<00:00, 69.73it/s]"
     ]
    },
    {
     "name": "stdout",
     "output_type": "stream",
     "text": [
      "{'tp': 49885, 'tn': 50003, 'fp': 48, 'fn': 64}\n"
     ]
    },
    {
     "name": "stderr",
     "output_type": "stream",
     "text": [
      "\n",
      "[07-02-2024 00-59-46] Epoch 002 Acc: 0.9989 Loss: 0.00442416: 100%|██████████| 7032/7032 [04:10<00:00, 28.02it/s]\n",
      "[07-02-2024 00-59-58] Epoch 002 Val. Acc: 0.9993 Val. Loss: 0.00252739: 100%|██████████| 782/782 [00:11<00:00, 69.52it/s]"
     ]
    },
    {
     "name": "stdout",
     "output_type": "stream",
     "text": [
      "{'tp': 49897, 'tn': 50031, 'fp': 20, 'fn': 52}\n"
     ]
    },
    {
     "name": "stderr",
     "output_type": "stream",
     "text": [
      "\n",
      "[07-02-2024 01-04-09] Epoch 003 Acc: 0.9992 Loss: 0.00297496: 100%|██████████| 7032/7032 [04:10<00:00, 28.03it/s]\n",
      "[07-02-2024 01-04-21] Epoch 003 Val. Acc: 0.9995 Val. Loss: 0.00176509: 100%|██████████| 782/782 [00:11<00:00, 70.12it/s]"
     ]
    },
    {
     "name": "stdout",
     "output_type": "stream",
     "text": [
      "{'tp': 49921, 'tn': 50034, 'fp': 17, 'fn': 28}\n"
     ]
    },
    {
     "name": "stderr",
     "output_type": "stream",
     "text": [
      "\n",
      "[07-02-2024 01-08-34] Epoch 004 Acc: 0.9994 Loss: 0.00285901: 100%|██████████| 7032/7032 [04:11<00:00, 27.97it/s]\n",
      "[07-02-2024 01-08-45] Epoch 004 Val. Acc: 0.9994 Val. Loss: 0.00189335: 100%|██████████| 782/782 [00:11<00:00, 70.44it/s]\n"
     ]
    },
    {
     "name": "stdout",
     "output_type": "stream",
     "text": [
      "{'tp': 49904, 'tn': 50040, 'fp': 11, 'fn': 45}\n"
     ]
    },
    {
     "name": "stderr",
     "output_type": "stream",
     "text": [
      "[07-02-2024 01-12-57] Epoch 005 Acc: 0.9995 Loss: 0.00226569: 100%|██████████| 7032/7032 [04:11<00:00, 28.00it/s]\n",
      "[07-02-2024 01-13-09] Epoch 005 Val. Acc: 0.9997 Val. Loss: 0.00120447: 100%|██████████| 782/782 [00:11<00:00, 69.61it/s]"
     ]
    },
    {
     "name": "stdout",
     "output_type": "stream",
     "text": [
      "{'tp': 49935, 'tn': 50039, 'fp': 12, 'fn': 14}\n"
     ]
    },
    {
     "name": "stderr",
     "output_type": "stream",
     "text": [
      "\n",
      "[07-02-2024 01-17-21] Epoch 006 Acc: 0.9996 Loss: 0.00196026: 100%|██████████| 7032/7032 [04:11<00:00, 28.01it/s]\n",
      "[07-02-2024 01-17-33] Epoch 006 Val. Acc: 0.9997 Val. Loss: 0.00124562: 100%|██████████| 782/782 [00:11<00:00, 69.73it/s]"
     ]
    },
    {
     "name": "stdout",
     "output_type": "stream",
     "text": [
      "{'tp': 49934, 'tn': 50032, 'fp': 19, 'fn': 15}\n"
     ]
    },
    {
     "name": "stderr",
     "output_type": "stream",
     "text": [
      "\n",
      "[07-02-2024 01-21-45] Epoch 007 Acc: 0.9996 Loss: 0.00221227: 100%|██████████| 7032/7032 [04:10<00:00, 28.02it/s]\n",
      "[07-02-2024 01-21-57] Epoch 007 Val. Acc: 0.9998 Val. Loss: 0.00102548: 100%|██████████| 782/782 [00:11<00:00, 69.18it/s]"
     ]
    },
    {
     "name": "stdout",
     "output_type": "stream",
     "text": [
      "{'tp': 49941, 'tn': 50039, 'fp': 12, 'fn': 8}\n"
     ]
    },
    {
     "name": "stderr",
     "output_type": "stream",
     "text": [
      "\n",
      "[07-02-2024 01-26-09] Epoch 008 Acc: 0.9996 Loss: 0.00173158: 100%|██████████| 7032/7032 [04:11<00:00, 28.00it/s]\n",
      "[07-02-2024 01-26-21] Epoch 008 Val. Acc: 0.9997 Val. Loss: 0.00117570: 100%|██████████| 782/782 [00:11<00:00, 69.68it/s]"
     ]
    },
    {
     "name": "stdout",
     "output_type": "stream",
     "text": [
      "{'tp': 49932, 'tn': 50039, 'fp': 12, 'fn': 17}\n"
     ]
    },
    {
     "name": "stderr",
     "output_type": "stream",
     "text": [
      "\n",
      "[07-02-2024 01-30-33] Epoch 009 Acc: 0.9996 Loss: 0.00211549: 100%|██████████| 7032/7032 [04:10<00:00, 28.03it/s]\n",
      "[07-02-2024 01-30-45] Epoch 009 Val. Acc: 0.9997 Val. Loss: 0.00128101: 100%|██████████| 782/782 [00:11<00:00, 69.68it/s]\n"
     ]
    },
    {
     "name": "stdout",
     "output_type": "stream",
     "text": [
      "{'tp': 49934, 'tn': 50039, 'fp': 12, 'fn': 15}\n"
     ]
    },
    {
     "name": "stderr",
     "output_type": "stream",
     "text": [
      "[07-02-2024 01-34-56] Epoch 010 Acc: 0.9996 Loss: 0.00170071: 100%|██████████| 7032/7032 [04:11<00:00, 28.00it/s]\n",
      "[07-02-2024 01-35-09] Epoch 010 Val. Acc: 0.9998 Val. Loss: 0.00079165: 100%|██████████| 782/782 [00:11<00:00, 68.97it/s]"
     ]
    },
    {
     "name": "stdout",
     "output_type": "stream",
     "text": [
      "{'tp': 49942, 'tn': 50041, 'fp': 10, 'fn': 7}\n"
     ]
    },
    {
     "name": "stderr",
     "output_type": "stream",
     "text": [
      "\n",
      "[07-02-2024 01-39-20] Epoch 011 Acc: 0.9996 Loss: 0.00179312: 100%|██████████| 7032/7032 [04:10<00:00, 28.04it/s]\n",
      "[07-02-2024 01-39-32] Epoch 011 Val. Acc: 0.9999 Val. Loss: 0.00071823: 100%|██████████| 782/782 [00:11<00:00, 69.40it/s]"
     ]
    },
    {
     "name": "stdout",
     "output_type": "stream",
     "text": [
      "{'tp': 49949, 'tn': 50038, 'fp': 13, 'fn': 0}\n"
     ]
    },
    {
     "name": "stderr",
     "output_type": "stream",
     "text": [
      "\n",
      "[07-02-2024 01-43-44] Epoch 012 Acc: 0.9997 Loss: 0.00130723: 100%|██████████| 7032/7032 [04:11<00:00, 27.99it/s]\n",
      "[07-02-2024 01-43-56] Epoch 012 Val. Acc: 0.9997 Val. Loss: 0.00084915: 100%|██████████| 782/782 [00:11<00:00, 69.03it/s]"
     ]
    },
    {
     "name": "stdout",
     "output_type": "stream",
     "text": [
      "{'tp': 49932, 'tn': 50042, 'fp': 9, 'fn': 17}\n"
     ]
    },
    {
     "name": "stderr",
     "output_type": "stream",
     "text": [
      "\n",
      "[07-02-2024 01-48-08] Epoch 013 Acc: 0.9997 Loss: 0.00218625: 100%|██████████| 7032/7032 [04:10<00:00, 28.04it/s]\n",
      "[07-02-2024 01-48-20] Epoch 013 Val. Acc: 0.9997 Val. Loss: 0.00097571: 100%|██████████| 782/782 [00:11<00:00, 69.07it/s]"
     ]
    },
    {
     "name": "stdout",
     "output_type": "stream",
     "text": [
      "{'tp': 49927, 'tn': 50043, 'fp': 8, 'fn': 22}\n"
     ]
    },
    {
     "name": "stderr",
     "output_type": "stream",
     "text": [
      "\n",
      "[07-02-2024 01-52-32] Epoch 014 Acc: 0.9997 Loss: 0.00205210: 100%|██████████| 7032/7032 [04:11<00:00, 28.00it/s]\n",
      "[07-02-2024 01-52-44] Epoch 014 Val. Acc: 0.9996 Val. Loss: 0.00241648: 100%|██████████| 782/782 [00:11<00:00, 68.89it/s]"
     ]
    },
    {
     "name": "stdout",
     "output_type": "stream",
     "text": [
      "{'tp': 49941, 'tn': 50020, 'fp': 31, 'fn': 8}\n"
     ]
    },
    {
     "name": "stderr",
     "output_type": "stream",
     "text": [
      "\n",
      "[07-02-2024 01-56-56] Epoch 015 Acc: 0.9997 Loss: 0.00173982: 100%|██████████| 7032/7032 [04:11<00:00, 28.00it/s]\n",
      "[07-02-2024 01-57-08] Epoch 015 Val. Acc: 0.9999 Val. Loss: 0.00083065: 100%|██████████| 782/782 [00:11<00:00, 69.32it/s]\n"
     ]
    },
    {
     "name": "stdout",
     "output_type": "stream",
     "text": [
      "{'tp': 49948, 'tn': 50043, 'fp': 8, 'fn': 1}\n"
     ]
    },
    {
     "name": "stderr",
     "output_type": "stream",
     "text": [
      "[07-02-2024 02-01-20] Epoch 016 Acc: 0.9997 Loss: 0.00422216: 100%|██████████| 7032/7032 [04:11<00:00, 28.01it/s]\n",
      "[07-02-2024 02-01-32] Epoch 016 Val. Acc: 0.9998 Val. Loss: 0.00181993: 100%|██████████| 782/782 [00:11<00:00, 69.04it/s]"
     ]
    },
    {
     "name": "stdout",
     "output_type": "stream",
     "text": [
      "{'tp': 49942, 'tn': 50041, 'fp': 10, 'fn': 7}\n"
     ]
    },
    {
     "name": "stderr",
     "output_type": "stream",
     "text": [
      "\n",
      "[07-02-2024 02-05-44] Epoch 017 Acc: 0.9998 Loss: 0.00125033: 100%|██████████| 7032/7032 [04:10<00:00, 28.02it/s]\n",
      "[07-02-2024 02-05-56] Epoch 017 Val. Acc: 0.9998 Val. Loss: 0.00081691: 100%|██████████| 782/782 [00:11<00:00, 68.84it/s]"
     ]
    },
    {
     "name": "stdout",
     "output_type": "stream",
     "text": [
      "{'tp': 49942, 'tn': 50040, 'fp': 11, 'fn': 7}\n"
     ]
    },
    {
     "name": "stderr",
     "output_type": "stream",
     "text": [
      "\n",
      "[07-02-2024 02-10-08] Epoch 018 Acc: 0.9997 Loss: 0.00193376: 100%|██████████| 7032/7032 [04:11<00:00, 28.01it/s]\n",
      "[07-02-2024 02-10-20] Epoch 018 Val. Acc: 0.9998 Val. Loss: 0.00128106: 100%|██████████| 782/782 [00:11<00:00, 68.88it/s]"
     ]
    },
    {
     "name": "stdout",
     "output_type": "stream",
     "text": [
      "{'tp': 49949, 'tn': 50033, 'fp': 18, 'fn': 0}\n"
     ]
    },
    {
     "name": "stderr",
     "output_type": "stream",
     "text": [
      "\n",
      "[07-02-2024 02-14-32] Epoch 019 Acc: 0.9998 Loss: 0.00126280: 100%|██████████| 7032/7032 [04:11<00:00, 28.00it/s]\n",
      "[07-02-2024 02-14-44] Epoch 019 Val. Acc: 0.9999 Val. Loss: 0.00055612: 100%|██████████| 782/782 [00:11<00:00, 68.61it/s]"
     ]
    },
    {
     "name": "stdout",
     "output_type": "stream",
     "text": [
      "{'tp': 49948, 'tn': 50042, 'fp': 9, 'fn': 1}\n"
     ]
    },
    {
     "name": "stderr",
     "output_type": "stream",
     "text": [
      "\n",
      "[07-02-2024 02-18-56] Epoch 020 Acc: 0.9997 Loss: 0.00168077: 100%|██████████| 7032/7032 [04:11<00:00, 27.98it/s]\n",
      "[07-02-2024 02-19-08] Epoch 020 Val. Acc: 0.9997 Val. Loss: 0.00637005: 100%|██████████| 782/782 [00:11<00:00, 69.07it/s]\n"
     ]
    },
    {
     "name": "stdout",
     "output_type": "stream",
     "text": [
      "{'tp': 49933, 'tn': 50040, 'fp': 11, 'fn': 16}\n",
      "Finished experiment!\n"
     ]
    }
   ],
   "source": [
    "if __name__ == \"__main__\":\n",
    "    no_update()\n",
    "    print(\"Finished experiment!\")"
   ]
  },
  {
   "cell_type": "code",
   "execution_count": 63,
   "metadata": {},
   "outputs": [
    {
     "data": {
      "text/plain": [
       "[(0.0032166186901938726,\n",
       "  0.998870011299887,\n",
       "  {'tp': 49933, 'tn': 50040, 'fp': 11, 'fn': 16}),\n",
       " (0.002527386884239581,\n",
       "  0.999270007299927,\n",
       "  {'tp': 49933, 'tn': 50040, 'fp': 11, 'fn': 16}),\n",
       " (0.0017650877341752315,\n",
       "  0.999540004599954,\n",
       "  {'tp': 49933, 'tn': 50040, 'fp': 11, 'fn': 16}),\n",
       " (0.0018933534413803537,\n",
       "  0.999430005699943,\n",
       "  {'tp': 49933, 'tn': 50040, 'fp': 11, 'fn': 16}),\n",
       " (0.0012044725710793232,\n",
       "  0.999730002699973,\n",
       "  {'tp': 49933, 'tn': 50040, 'fp': 11, 'fn': 16}),\n",
       " (0.0012456204718011945,\n",
       "  0.999650003499965,\n",
       "  {'tp': 49933, 'tn': 50040, 'fp': 11, 'fn': 16}),\n",
       " (0.0010254835426174098,\n",
       "  0.999790002099979,\n",
       "  {'tp': 49933, 'tn': 50040, 'fp': 11, 'fn': 16}),\n",
       " (0.0011756976698257006,\n",
       "  0.99970000299997,\n",
       "  {'tp': 49933, 'tn': 50040, 'fp': 11, 'fn': 16}),\n",
       " (0.0012810077465436806,\n",
       "  0.999720002799972,\n",
       "  {'tp': 49933, 'tn': 50040, 'fp': 11, 'fn': 16}),\n",
       " (0.0007916483731645638,\n",
       "  0.999820001799982,\n",
       "  {'tp': 49933, 'tn': 50040, 'fp': 11, 'fn': 16}),\n",
       " (0.0007182303805296925,\n",
       "  0.999860001399986,\n",
       "  {'tp': 49933, 'tn': 50040, 'fp': 11, 'fn': 16}),\n",
       " (0.0008491486338608278,\n",
       "  0.999730002699973,\n",
       "  {'tp': 49933, 'tn': 50040, 'fp': 11, 'fn': 16}),\n",
       " (0.0009757108760608449,\n",
       "  0.999690003099969,\n",
       "  {'tp': 49933, 'tn': 50040, 'fp': 11, 'fn': 16}),\n",
       " (0.0024164806864054853,\n",
       "  0.99960000399996,\n",
       "  {'tp': 49933, 'tn': 50040, 'fp': 11, 'fn': 16}),\n",
       " (0.0008306471680148579,\n",
       "  0.99990000099999,\n",
       "  {'tp': 49933, 'tn': 50040, 'fp': 11, 'fn': 16}),\n",
       " (0.0018199257785138617,\n",
       "  0.999820001799982,\n",
       "  {'tp': 49933, 'tn': 50040, 'fp': 11, 'fn': 16}),\n",
       " (0.0008169141128303425,\n",
       "  0.999810001899981,\n",
       "  {'tp': 49933, 'tn': 50040, 'fp': 11, 'fn': 16}),\n",
       " (0.0012810573555621456,\n",
       "  0.999810001899981,\n",
       "  {'tp': 49933, 'tn': 50040, 'fp': 11, 'fn': 16}),\n",
       " (0.0005561197910462042,\n",
       "  0.999890001099989,\n",
       "  {'tp': 49933, 'tn': 50040, 'fp': 11, 'fn': 16}),\n",
       " (0.006370048122911423,\n",
       "  0.999720002799972,\n",
       "  {'tp': 49933, 'tn': 50040, 'fp': 11, 'fn': 16})]"
      ]
     },
     "execution_count": 63,
     "metadata": {},
     "output_type": "execute_result"
    }
   ],
   "source": [
    "allmetrics"
   ]
  },
  {
   "cell_type": "code",
   "execution_count": 64,
   "metadata": {},
   "outputs": [
    {
     "name": "stdout",
     "output_type": "stream",
     "text": [
      "[{'tp': 49933, 'tn': 50040, 'fp': 11, 'fn': 16}, {'tp': 49933, 'tn': 50040, 'fp': 11, 'fn': 16}, {'tp': 49933, 'tn': 50040, 'fp': 11, 'fn': 16}, {'tp': 49933, 'tn': 50040, 'fp': 11, 'fn': 16}, {'tp': 49933, 'tn': 50040, 'fp': 11, 'fn': 16}, {'tp': 49933, 'tn': 50040, 'fp': 11, 'fn': 16}, {'tp': 49933, 'tn': 50040, 'fp': 11, 'fn': 16}, {'tp': 49933, 'tn': 50040, 'fp': 11, 'fn': 16}, {'tp': 49933, 'tn': 50040, 'fp': 11, 'fn': 16}, {'tp': 49933, 'tn': 50040, 'fp': 11, 'fn': 16}, {'tp': 49933, 'tn': 50040, 'fp': 11, 'fn': 16}, {'tp': 49933, 'tn': 50040, 'fp': 11, 'fn': 16}, {'tp': 49933, 'tn': 50040, 'fp': 11, 'fn': 16}, {'tp': 49933, 'tn': 50040, 'fp': 11, 'fn': 16}, {'tp': 49933, 'tn': 50040, 'fp': 11, 'fn': 16}, {'tp': 49933, 'tn': 50040, 'fp': 11, 'fn': 16}, {'tp': 49933, 'tn': 50040, 'fp': 11, 'fn': 16}, {'tp': 49933, 'tn': 50040, 'fp': 11, 'fn': 16}, {'tp': 49933, 'tn': 50040, 'fp': 11, 'fn': 16}, {'tp': 49933, 'tn': 50040, 'fp': 11, 'fn': 16}]\n"
     ]
    }
   ],
   "source": [
    "allmetrics2=[]\n",
    "for i in allmetrics:\n",
    "    allmetrics2.append(i[2])\n",
    "\n",
    "print(allmetrics2)"
   ]
  },
  {
   "cell_type": "code",
   "execution_count": 65,
   "metadata": {},
   "outputs": [
    {
     "data": {
      "text/plain": [
       "16"
      ]
     },
     "execution_count": 65,
     "metadata": {},
     "output_type": "execute_result"
    }
   ],
   "source": [
    "allmetrics2[1]['fn']"
   ]
  },
  {
   "cell_type": "code",
   "execution_count": 70,
   "metadata": {},
   "outputs": [],
   "source": [
    "fpr = []\n",
    "tpr = []\n",
    "for i in allmetrics2:\n",
    "    fpr.append(i['fp']/(i['fp']+i['fn']))\n",
    "    tpr.append(i['tp']/(i['tp']+i['tn']))"
   ]
  },
  {
   "cell_type": "code",
   "execution_count": 74,
   "metadata": {},
   "outputs": [
    {
     "data": {
      "text/plain": [
       "[0.4074074074074074,\n",
       " 0.4074074074074074,\n",
       " 0.4074074074074074,\n",
       " 0.4074074074074074,\n",
       " 0.4074074074074074,\n",
       " 0.4074074074074074,\n",
       " 0.4074074074074074,\n",
       " 0.4074074074074074,\n",
       " 0.4074074074074074,\n",
       " 0.4074074074074074,\n",
       " 0.4074074074074074,\n",
       " 0.4074074074074074,\n",
       " 0.4074074074074074,\n",
       " 0.4074074074074074,\n",
       " 0.4074074074074074,\n",
       " 0.4074074074074074,\n",
       " 0.4074074074074074,\n",
       " 0.4074074074074074,\n",
       " 0.4074074074074074,\n",
       " 0.4074074074074074]"
      ]
     },
     "execution_count": 74,
     "metadata": {},
     "output_type": "execute_result"
    }
   ],
   "source": [
    "fpr"
   ]
  },
  {
   "cell_type": "code",
   "execution_count": 75,
   "metadata": {},
   "outputs": [
    {
     "data": {
      "text/plain": [
       "[0.49946485551098796,\n",
       " 0.49946485551098796,\n",
       " 0.49946485551098796,\n",
       " 0.49946485551098796,\n",
       " 0.49946485551098796,\n",
       " 0.49946485551098796,\n",
       " 0.49946485551098796,\n",
       " 0.49946485551098796,\n",
       " 0.49946485551098796,\n",
       " 0.49946485551098796,\n",
       " 0.49946485551098796,\n",
       " 0.49946485551098796,\n",
       " 0.49946485551098796,\n",
       " 0.49946485551098796,\n",
       " 0.49946485551098796,\n",
       " 0.49946485551098796,\n",
       " 0.49946485551098796,\n",
       " 0.49946485551098796,\n",
       " 0.49946485551098796,\n",
       " 0.49946485551098796]"
      ]
     },
     "execution_count": 75,
     "metadata": {},
     "output_type": "execute_result"
    }
   ],
   "source": [
    "tpr"
   ]
  },
  {
   "cell_type": "code",
   "execution_count": 83,
   "metadata": {},
   "outputs": [
    {
     "data": {
      "image/png": "[encoded data removed]",
      "text/plain": [
       "<Figure size 640x480 with 1 Axes>"
      ]
     },
     "metadata": {},
     "output_type": "display_data"
    }
   ],
   "source": [
    "plt.figure()\n",
    "plt.plot(fpr, tpr, color='darkorange', lw=2, label='Curva ROC (AUC = %0.2f)')\n",
    "#plt.plot([0, 1], [0, 1], color='navy', lw=2, linestyle='--')\n",
    "plt.xlim([-0.05, 1.0])\n",
    "plt.ylim([0.0, 1.05])\n",
    "plt.xlabel('Taxa de Falsos Positivos')\n",
    "plt.ylabel('Taxa de Verdadeiros Positivos')\n",
    "plt.title('Curva ROC')\n",
    "plt.legend(loc=\"lower right\")\n",
    "plt.show()"
   ]
  },
  {
   "cell_type": "code",
   "execution_count": null,
   "metadata": {},
   "outputs": [],
   "source": []
  }
 ],
 "metadata": {
  "kernelspec": {
   "display_name": "Python 3",
   "language": "python",
   "name": "python3"
  },
  "language_info": {
   "codemirror_mode": {
    "name": "ipython",
    "version": 3
   },
   "file_extension": ".py",
   "mimetype": "text/x-python",
   "name": "python",
   "nbconvert_exporter": "python",
   "pygments_lexer": "ipython3",
   "version": "3.11.7"
  }
 },
 "nbformat": 4,
 "nbformat_minor": 2
}
