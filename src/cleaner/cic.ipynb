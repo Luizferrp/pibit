{
 "cells": [
  {
   "cell_type": "code",
   "execution_count": 1,
   "id": "95224e18-2914-46b8-9e61-6d13dde0f501",
   "metadata": {},
   "outputs": [],
   "source": [
    "import pandas as pd\n",
    "from sklearn.preprocessing import MaxAbsScaler"
   ]
  },
  {
   "cell_type": "code",
   "execution_count": 15,
   "id": "22072d56-5d8e-4e4f-99aa-ca8403485f99",
   "metadata": {},
   "outputs": [],
   "source": [
    "baredf = pd.read_csv(\"../data7s/cic/Wednesday-21-02-2018_TrafficForML_CICFlowMeter.csv\")"
   ]
  },
  {
   "cell_type": "code",
   "execution_count": 16,
   "id": "4d97f021-4162-4d81-bc16-7909ad637924",
   "metadata": {},
   "outputs": [],
   "source": [
    "baredf = baredf.drop(columns=['Timestamp'])\n",
    "baredf.Label = baredf.apply( lambda x: 0 if x.Label == 'Benign' else 1, axis=1)\n",
    "for a in baredf.columns:\n",
    "    if (baredf[a].mean() == 0):\n",
    "        baredf = baredf.drop(columns=[a])"
   ]
  },
  {
   "cell_type": "code",
   "execution_count": 17,
   "id": "65e86544-72c5-4b36-bac9-de66c35bfa5e",
   "metadata": {},
   "outputs": [],
   "source": [
    "ben = baredf[baredf['Label'] == 0]\n",
    "att = baredf[baredf['Label'] != 0]"
   ]
  },
  {
   "cell_type": "code",
   "execution_count": 18,
   "id": "7689b5ec-7077-4b95-bc35-748a8c35b3f2",
   "metadata": {},
   "outputs": [
    {
     "name": "stdout",
     "output_type": "stream",
     "text": [
      "geral: 19587.641002312663, ataque: 80.0, benegin: 56768.89670290689  Dst Port\n",
      "geral: 6.037951505614763, ataque: 6.027670260068456, benegin: 6.0575473972724225  Protocol\n",
      "geral: 399040.09894189733, ataque: 301537.04789295985, benegin: 584879.3745472282  Flow Duration\n",
      "geral: 196.80991726867416, ataque: 297.4280267891157, benegin: 5.033389407288136  Tot Fwd Pkts\n",
      "geral: 1.30966311422645, ataque: 0.9523920307324549, benegin: 1.9906161576130785  Tot Bwd Pkts\n",
      "geral: 6563.580835896336, ataque: 9517.458638559227, benegin: 933.5363894100595  TotLen Fwd Pkts\n",
      "geral: 248.65272965691534, ataque: 222.62163718371133, benegin: 298.26758084764975  TotLen Bwd Pkts\n",
      "geral: 366.69379395846744, ataque: 71.30042225136752, benegin: 929.7088958049845  Fwd Pkt Len Max\n",
      "geral: 0.2549479054907851, ataque: 0.08049530201732627, benegin: 0.5874518128885108  Fwd Pkt Len Min\n",
      "geral: 79.7714432745739, ataque: 23.820470951559045, benegin: 186.41311298708604  Fwd Pkt Len Mean\n",
      "geral: 169.95185724751448, ataque: 41.11884399594803, benegin: 415.5055460721472  Fwd Pkt Len Std\n",
      "geral: 248.58785589967337, ataque: 222.62163718371133, benegin: 298.07905873354156  Bwd Pkt Len Max\n",
      "geral: 0.0033140214100088215, ataque: 0.0, benegin: 0.009630493884982804  Bwd Pkt Len Min\n",
      "geral: 87.77144664421148, ataque: 55.65540929592783, benegin: 148.98410667803122  Bwd Pkt Len Mean\n",
      "geral: 145.51415431657065, ataque: 111.31081859185566, benegin: 210.70517209484146  Bwd Pkt Len Std\n",
      "geral: 259916.04750754536, ataque: 61453.432407101485, benegin: 638182.6579184821  Flow Byts/s\n",
      "geral: 1877.982162834689, ataque: 948.6991919330375, benegin: 3649.180830844111  Flow Pkts/s\n",
      "geral: 29776.424538104922, ataque: 7376.039801450067, benegin: 72471.20411634885  Flow IAT Mean\n",
      "geral: 18185.005340572272, ataque: 971.8405373232771, benegin: 50993.02563837228  Flow IAT Std\n",
      "geral: 66693.5329842882, ataque: 10959.831345184677, benegin: 172921.08820423853  Flow IAT Max\n",
      "geral: 13292.38822020361, ataque: 6910.036794321126, benegin: 25457.04925270139  Flow IAT Min\n",
      "geral: 398555.8733910307, ataque: 301270.21436236263, benegin: 583980.8032386173  Fwd IAT Tot\n",
      "geral: 30393.276048743817, ataque: 7970.761049146653, benegin: 73130.23555869151  Fwd IAT Mean\n",
      "geral: 18730.508134248023, ataque: 1441.290366635001, benegin: 51683.484181155356  Fwd IAT Std\n",
      "geral: 66500.78697565744, ataque: 10755.984267356072, benegin: 172749.50065819922  Fwd IAT Max\n",
      "geral: 13366.871482726558, ataque: 6985.638706084549, benegin: 25529.400387436846  Fwd IAT Min\n",
      "geral: 5032.659150752212, ataque: 2785.5939552913737, benegin: 9315.529929357903  Bwd IAT Tot\n",
      "geral: 2822.5314816278255, ataque: 928.5313184302219, benegin: 6432.465884073961  Bwd IAT Mean\n",
      "geral: 1057.9687694352726, ataque: 1266.9688675780098, benegin: 659.6178827456331  Bwd IAT Std\n",
      "geral: 4358.398974799132, ataque: 2314.594762280041, benegin: 8253.857529660536  Bwd IAT Max\n",
      "geral: 2105.284774098181, ataque: 6.9590849475530066, benegin: 6104.660402457646  Bwd IAT Min\n",
      "geral: 2.193453019574184e-05, ataque: 0.0, benegin: 6.374139837542574e-05  Fwd PSH Flags\n",
      "geral: 1622.6738077867583, ataque: 2409.078195020807, benegin: 123.79946401798061  Fwd Header Len\n",
      "geral: 28.073955606418235, ataque: 21.905016706846464, benegin: 39.83185573381592  Bwd Header Len\n",
      "geral: 1386.5236237935133, ataque: 749.800599135818, benegin: 2600.107654145873  Fwd Pkts/s\n",
      "geral: 491.4585390417085, ataque: 198.89859279650094, benegin: 1049.0731767011562  Bwd Pkts/s\n",
      "geral: 0.25371194239801637, ataque: 0.08049530201732627, benegin: 0.5838601236583129  Pkt Len Min\n",
      "geral: 466.0477161862528, ataque: 222.70213248572867, benegin: 929.8605559912758  Pkt Len Max\n",
      "geral: 77.1310664925075, ataque: 36.810690818650016, benegin: 153.9810658182069  Pkt Len Mean\n",
      "geral: 165.67077540916978, ataque: 79.17849252923207, benegin: 330.52370075805464  Pkt Len Std\n",
      "geral: 55097.02973630628, ataque: 26331.24809271283, benegin: 109924.15530167375  Pkt Len Var\n",
      "geral: 9.536752259018191e-07, ataque: 0.0, benegin: 2.771365146757641e-06  FIN Flag Cnt\n",
      "geral: 2.193453019574184e-05, ataque: 0.0, benegin: 6.374139837542574e-05  SYN Flag Cnt\n",
      "geral: 0.4980883580096798, ataque: 0.23809800768311373, benegin: 0.9936258601624575  RST Flag Cnt\n",
      "geral: 0.498329637841833, ataque: 0.23809800768311373, benegin: 0.9943270155445871  PSH Flag Cnt\n",
      "geral: 0.49813127339484536, ataque: 0.7593865141288448, benegin: 0.00018291009968600432  ACK Flag Cnt\n",
      "geral: 3.051760722885821e-05, ataque: 0.0, benegin: 8.868368469624452e-05  URG Flag Cnt\n",
      "geral: 0.4980883580096798, ataque: 0.23809800768311373, benegin: 0.9936258601624575  ECE Flag Cnt\n",
      "geral: 0.1563798488424767, ataque: 0.23809800768311373, benegin: 0.000626328523167227  Down/Up Ratio\n",
      "geral: 88.1475349427003, ataque: 42.05786288078947, benegin: 175.99372207969347  Pkt Size Avg\n",
      "geral: 79.7714432745739, ataque: 23.820470951559045, benegin: 186.41311298708604  Fwd Seg Size Avg\n",
      "geral: 87.77144664421148, ataque: 55.65540929592783, benegin: 148.98410667803122  Bwd Seg Size Avg\n",
      "geral: 196.80991726867416, ataque: 297.4280267891157, benegin: 5.033389407288136  Subflow Fwd Pkts\n",
      "geral: 6563.580835896336, ataque: 9517.458638559227, benegin: 933.5363894100595  Subflow Fwd Byts\n",
      "geral: 1.30966311422645, ataque: 0.9523920307324549, benegin: 1.9906161576130785  Subflow Bwd Pkts\n",
      "geral: 248.65272965691534, ataque: 222.62163718371133, benegin: 298.26758084764975  Subflow Bwd Byts\n",
      "geral: 48951.6990782729, ataque: 40464.54611758479, benegin: 65128.07859868693  Init Fwd Win Byts\n",
      "geral: 11238.02611067401, ataque: 51.37865362301561, benegin: 32559.599512794008  Init Bwd Win Byts\n",
      "geral: 194.1294070524283, ataque: 295.43054226730374, benegin: 1.0510430032729823  Fwd Act Data Pkts\n",
      "geral: 19.958923300669955, ataque: 19.9698142617435, benegin: 19.938165300845544  Fwd Seg Size Min\n",
      "geral: 7521.671794798273, ataque: 0.0, benegin: 21857.859459169755  Active Mean\n",
      "geral: 2589.4270486199457, ataque: 0.0, benegin: 7524.834113029184  Active Std\n",
      "geral: 10036.094276518132, ataque: 0.0, benegin: 29164.731485202297  Active Max\n",
      "geral: 5446.253251317264, ataque: 0.0, benegin: 15826.725945243368  Active Min\n",
      "geral: 31405.1416860978, ataque: 0.0, benegin: 91262.84581371438  Idle Mean\n",
      "geral: 16026.452497348833, ataque: 0.0, benegin: 46572.61787976031  Idle Std\n",
      "geral: 57230.698988627424, ataque: 0.0, benegin: 166311.50751732796  Idle Max\n",
      "geral: 16334.80745297189, ataque: 0.0, benegin: 47468.692511494235  Idle Min\n",
      "geral: 0.6558825072121689, ataque: 1.0, benegin: 0.0  Label\n"
     ]
    }
   ],
   "source": [
    "for a in baredf.columns:\n",
    "  print(f\"geral: {baredf[a].mean()}, ataque: {att[a].mean()}, benegin: {ben[a].mean()}  {a}\")"
   ]
  },
  {
   "cell_type": "code",
   "execution_count": 19,
   "id": "a478b963-b288-4b1c-ac43-20ca05fda130",
   "metadata": {},
   "outputs": [
    {
     "name": "stdout",
     "output_type": "stream",
     "text": [
      "Protocol\n",
      "Fwd Seg Size Min\n"
     ]
    }
   ],
   "source": [
    "for a in baredf.columns:\n",
    "    if ((abs(att[a].mean()-ben[a].mean())) <= (att[a].mean()*0.3)):\n",
    "        print(a)"
   ]
  },
  {
   "cell_type": "code",
   "execution_count": 20,
   "id": "34ab3312-0d5b-4f37-8d11-e4f15f72eab5",
   "metadata": {},
   "outputs": [],
   "source": [
    "for a in baredf.columns:\n",
    "    if ((abs(att[a].mean()-ben[a].mean())) <= (att[a].mean()*0.3)):\n",
    "        baredf = baredf.drop(columns=[a])"
   ]
  },
  {
   "cell_type": "code",
   "execution_count": 21,
   "id": "3c5efd40-36cd-4ac6-9b79-68bad13e0538",
   "metadata": {},
   "outputs": [],
   "source": [
    "baredf = pd.DataFrame(MaxAbsScaler().fit_transform(baredf))"
   ]
  },
  {
   "cell_type": "code",
   "execution_count": 39,
   "id": "71b1637f-d82b-428d-be9f-7bf17c88ad2e",
   "metadata": {},
   "outputs": [],
   "source": [
    "baredf.to_csv('cicClean.csv', index=False)"
   ]
  },
  {
   "cell_type": "code",
   "execution_count": 11,
   "id": "36e94f5b-4789-4619-a387-4f4a6fda545a",
   "metadata": {},
   "outputs": [],
   "source": [
    "import pandas as pd\n",
    "import numpy as np\n",
    "import seaborn as sns\n",
    "import matplotlib.pyplot as plt\n",
    "from sklearn.preprocessing import MaxAbsScaler\n",
    "from sklearn.model_selection import train_test_split\n",
    "from sklearn.neighbors import KNeighborsClassifier\n",
    "from sklearn.metrics import auc, roc_curve, accuracy_score, confusion_matrix, ConfusionMatrixDisplay\n",
    "from sklearn.ensemble import ExtraTreesClassifier, RandomForestClassifier\n",
    "from sklearn.tree import DecisionTreeClassifier\n",
    "from sklearn.model_selection import train_test_split \n",
    "from sklearn.model_selection import train_test_split\n",
    "from sklearn.preprocessing import LabelEncoder\n",
    "from sklearn.manifold import TSNE"
   ]
  },
  {
   "cell_type": "code",
   "execution_count": 25,
   "id": "562de014-e030-4927-80ca-1809c12fdb38",
   "metadata": {},
   "outputs": [
    {
     "data": {
      "text/html": [
       "<div>\n",
       "<style scoped>\n",
       "    .dataframe tbody tr th:only-of-type {\n",
       "        vertical-align: middle;\n",
       "    }\n",
       "\n",
       "    .dataframe tbody tr th {\n",
       "        vertical-align: top;\n",
       "    }\n",
       "\n",
       "    .dataframe thead th {\n",
       "        text-align: right;\n",
       "    }\n",
       "</style>\n",
       "<table border=\"1\" class=\"dataframe\">\n",
       "  <thead>\n",
       "    <tr style=\"text-align: right;\">\n",
       "      <th></th>\n",
       "      <th>0</th>\n",
       "      <th>1</th>\n",
       "      <th>2</th>\n",
       "      <th>3</th>\n",
       "      <th>4</th>\n",
       "      <th>5</th>\n",
       "      <th>6</th>\n",
       "      <th>7</th>\n",
       "      <th>8</th>\n",
       "      <th>9</th>\n",
       "      <th>...</th>\n",
       "      <th>57</th>\n",
       "      <th>58</th>\n",
       "      <th>59</th>\n",
       "      <th>60</th>\n",
       "      <th>61</th>\n",
       "      <th>62</th>\n",
       "      <th>63</th>\n",
       "      <th>64</th>\n",
       "      <th>65</th>\n",
       "      <th>66</th>\n",
       "    </tr>\n",
       "  </thead>\n",
       "  <tbody>\n",
       "    <tr>\n",
       "      <th>0</th>\n",
       "      <td>0.001221</td>\n",
       "      <td>0.000316</td>\n",
       "      <td>0.000016</td>\n",
       "      <td>0.024194</td>\n",
       "      <td>0.000014</td>\n",
       "      <td>0.013924</td>\n",
       "      <td>0.060701</td>\n",
       "      <td>0.000000</td>\n",
       "      <td>0.027664</td>\n",
       "      <td>0.087481</td>\n",
       "      <td>...</td>\n",
       "      <td>0.000003</td>\n",
       "      <td>0.000000</td>\n",
       "      <td>0.0</td>\n",
       "      <td>0.000000</td>\n",
       "      <td>0.000000</td>\n",
       "      <td>0.000000</td>\n",
       "      <td>0.000000</td>\n",
       "      <td>0.000000</td>\n",
       "      <td>0.000000</td>\n",
       "      <td>0.0</td>\n",
       "    </tr>\n",
       "    <tr>\n",
       "      <th>1</th>\n",
       "      <td>0.007630</td>\n",
       "      <td>0.979779</td>\n",
       "      <td>0.000010</td>\n",
       "      <td>0.000000</td>\n",
       "      <td>0.000151</td>\n",
       "      <td>0.000000</td>\n",
       "      <td>0.224820</td>\n",
       "      <td>0.512295</td>\n",
       "      <td>0.512295</td>\n",
       "      <td>0.000000</td>\n",
       "      <td>...</td>\n",
       "      <td>0.000006</td>\n",
       "      <td>0.000000</td>\n",
       "      <td>0.0</td>\n",
       "      <td>0.000000</td>\n",
       "      <td>0.000000</td>\n",
       "      <td>0.554717</td>\n",
       "      <td>0.473161</td>\n",
       "      <td>0.713208</td>\n",
       "      <td>0.396226</td>\n",
       "      <td>0.0</td>\n",
       "    </tr>\n",
       "    <tr>\n",
       "      <th>2</th>\n",
       "      <td>0.007630</td>\n",
       "      <td>0.979779</td>\n",
       "      <td>0.000010</td>\n",
       "      <td>0.000000</td>\n",
       "      <td>0.000151</td>\n",
       "      <td>0.000000</td>\n",
       "      <td>0.224820</td>\n",
       "      <td>0.512295</td>\n",
       "      <td>0.512295</td>\n",
       "      <td>0.000000</td>\n",
       "      <td>...</td>\n",
       "      <td>0.000006</td>\n",
       "      <td>0.000000</td>\n",
       "      <td>0.0</td>\n",
       "      <td>0.000000</td>\n",
       "      <td>0.000000</td>\n",
       "      <td>0.554717</td>\n",
       "      <td>0.473161</td>\n",
       "      <td>0.713208</td>\n",
       "      <td>0.396226</td>\n",
       "      <td>0.0</td>\n",
       "    </tr>\n",
       "    <tr>\n",
       "      <th>3</th>\n",
       "      <td>0.007630</td>\n",
       "      <td>0.831200</td>\n",
       "      <td>0.000016</td>\n",
       "      <td>0.000000</td>\n",
       "      <td>0.000252</td>\n",
       "      <td>0.000000</td>\n",
       "      <td>0.224820</td>\n",
       "      <td>0.512295</td>\n",
       "      <td>0.512295</td>\n",
       "      <td>0.000000</td>\n",
       "      <td>...</td>\n",
       "      <td>0.000013</td>\n",
       "      <td>0.200015</td>\n",
       "      <td>0.0</td>\n",
       "      <td>0.142868</td>\n",
       "      <td>0.200015</td>\n",
       "      <td>0.300943</td>\n",
       "      <td>0.753479</td>\n",
       "      <td>0.713208</td>\n",
       "      <td>0.067928</td>\n",
       "      <td>0.0</td>\n",
       "    </tr>\n",
       "    <tr>\n",
       "      <th>4</th>\n",
       "      <td>0.007630</td>\n",
       "      <td>0.831200</td>\n",
       "      <td>0.000016</td>\n",
       "      <td>0.000000</td>\n",
       "      <td>0.000252</td>\n",
       "      <td>0.000000</td>\n",
       "      <td>0.224820</td>\n",
       "      <td>0.512295</td>\n",
       "      <td>0.512295</td>\n",
       "      <td>0.000000</td>\n",
       "      <td>...</td>\n",
       "      <td>0.000013</td>\n",
       "      <td>0.200014</td>\n",
       "      <td>0.0</td>\n",
       "      <td>0.142867</td>\n",
       "      <td>0.200014</td>\n",
       "      <td>0.300943</td>\n",
       "      <td>0.753479</td>\n",
       "      <td>0.713208</td>\n",
       "      <td>0.067928</td>\n",
       "      <td>0.0</td>\n",
       "    </tr>\n",
       "  </tbody>\n",
       "</table>\n",
       "<p>5 rows × 67 columns</p>\n",
       "</div>"
      ],
      "text/plain": [
       "         0         1         2         3         4         5         6    \n",
       "0  0.001221  0.000316  0.000016  0.024194  0.000014  0.013924  0.060701  \\\n",
       "1  0.007630  0.979779  0.000010  0.000000  0.000151  0.000000  0.224820   \n",
       "2  0.007630  0.979779  0.000010  0.000000  0.000151  0.000000  0.224820   \n",
       "3  0.007630  0.831200  0.000016  0.000000  0.000252  0.000000  0.224820   \n",
       "4  0.007630  0.831200  0.000016  0.000000  0.000252  0.000000  0.224820   \n",
       "\n",
       "         7         8         9   ...        57        58   59        60   \n",
       "0  0.000000  0.027664  0.087481  ...  0.000003  0.000000  0.0  0.000000  \\\n",
       "1  0.512295  0.512295  0.000000  ...  0.000006  0.000000  0.0  0.000000   \n",
       "2  0.512295  0.512295  0.000000  ...  0.000006  0.000000  0.0  0.000000   \n",
       "3  0.512295  0.512295  0.000000  ...  0.000013  0.200015  0.0  0.142868   \n",
       "4  0.512295  0.512295  0.000000  ...  0.000013  0.200014  0.0  0.142867   \n",
       "\n",
       "         61        62        63        64        65   66  \n",
       "0  0.000000  0.000000  0.000000  0.000000  0.000000  0.0  \n",
       "1  0.000000  0.554717  0.473161  0.713208  0.396226  0.0  \n",
       "2  0.000000  0.554717  0.473161  0.713208  0.396226  0.0  \n",
       "3  0.200015  0.300943  0.753479  0.713208  0.067928  0.0  \n",
       "4  0.200014  0.300943  0.753479  0.713208  0.067928  0.0  \n",
       "\n",
       "[5 rows x 67 columns]"
      ]
     },
     "execution_count": 25,
     "metadata": {},
     "output_type": "execute_result"
    }
   ],
   "source": [
    "baredf.head(5)"
   ]
  },
  {
   "cell_type": "code",
   "execution_count": 27,
   "id": "3b425038-02bf-4ded-a568-dfd19a45fa39",
   "metadata": {},
   "outputs": [],
   "source": [
    "x=baredf.iloc[:,:-1]\n",
    "y=baredf[66]"
   ]
  },
  {
   "cell_type": "code",
   "execution_count": 28,
   "id": "e566913c-4d43-4d78-977d-244b28821290",
   "metadata": {},
   "outputs": [],
   "source": [
    "treinoX, testeX, treinoY, testey = train_test_split(x, y, train_size=0.7, random_state=42)"
   ]
  },
  {
   "cell_type": "code",
   "execution_count": null,
   "id": "69835d15-5585-47cc-ae25-6a990435536e",
   "metadata": {},
   "outputs": [],
   "source": [
    "knn = KNeighborsClassifier(n_neighbors=5)\n",
    "knn.fit(treinoX, treinoY)\n",
    "knnPred = knn.predict(testeX)\n",
    "accuracy_score(testey, knnPred)"
   ]
  },
  {
   "cell_type": "code",
   "execution_count": 40,
   "id": "f8307b42-7f9b-4a37-a2ec-b3aa37e823dc",
   "metadata": {},
   "outputs": [
    {
     "data": {
      "text/plain": [
       "0.9999904632628992"
      ]
     },
     "execution_count": 40,
     "metadata": {},
     "output_type": "execute_result"
    }
   ],
   "source": [
    "dt = DecisionTreeClassifier(min_samples_split=10)\n",
    "dt.fit(treinoX, treinoY)\n",
    "dtPred = dt.predict(testeX)\n",
    "accuracy_score(testey, dtPred)"
   ]
  },
  {
   "cell_type": "code",
   "execution_count": 41,
   "id": "f8463176-0463-4b9e-872f-7f56cff6e146",
   "metadata": {},
   "outputs": [
    {
     "data": {
      "text/plain": [
       "<sklearn.metrics._plot.confusion_matrix.ConfusionMatrixDisplay at 0x7f506b911a50>"
      ]
     },
     "execution_count": 41,
     "metadata": {},
     "output_type": "execute_result"
    },
    {
     "data": {
      "image/png": "[encoded data removed]",
      "text/plain": [
       "<Figure size 640x480 with 2 Axes>"
      ]
     },
     "metadata": {},
     "output_type": "display_data"
    }
   ],
   "source": [
    "dtmc = confusion_matrix(testey, dtPred)\n",
    "ConfusionMatrixDisplay(dtmc, display_labels=['positivo', 'negativo']).plot()"
   ]
  },
  {
   "cell_type": "code",
   "execution_count": 35,
   "id": "2e178069-3351-47b8-99e3-6fba07f1b18a",
   "metadata": {},
   "outputs": [
    {
     "name": "stderr",
     "output_type": "stream",
     "text": [
      "[Parallel(n_jobs=1)]: Done  49 tasks      | elapsed:   11.5s\n"
     ]
    }
   ],
   "source": [
    "etc = ExtraTreesClassifier(criterion=\"entropy\", verbose=1)\n",
    "etcModel = etc.fit(treinoX, treinoY)"
   ]
  },
  {
   "cell_type": "code",
   "execution_count": 36,
   "id": "de9b43c8-3567-47dc-90ee-b8741febb49b",
   "metadata": {},
   "outputs": [
    {
     "name": "stderr",
     "output_type": "stream",
     "text": [
      "[Parallel(n_jobs=1)]: Done  49 tasks      | elapsed:    1.1s\n"
     ]
    }
   ],
   "source": [
    "etcPred = etcModel.predict(testeX)"
   ]
  },
  {
   "cell_type": "code",
   "execution_count": 37,
   "id": "36379540-6fe6-4a6d-8371-fc6ff9718822",
   "metadata": {},
   "outputs": [
    {
     "data": {
      "text/plain": [
       "1.0"
      ]
     },
     "execution_count": 37,
     "metadata": {},
     "output_type": "execute_result"
    }
   ],
   "source": [
    "accuracy_score(etcPred, testey)"
   ]
  },
  {
   "cell_type": "code",
   "execution_count": 38,
   "id": "321d8b7f-4167-48d7-b1e4-e710c92b9b9b",
   "metadata": {},
   "outputs": [
    {
     "data": {
      "text/plain": [
       "<sklearn.metrics._plot.confusion_matrix.ConfusionMatrixDisplay at 0x7f506c1c6050>"
      ]
     },
     "execution_count": 38,
     "metadata": {},
     "output_type": "execute_result"
    },
    {
     "data": {
      "image/png": "[encoded data removed]",
      "text/plain": [
       "<Figure size 640x480 with 2 Axes>"
      ]
     },
     "metadata": {},
     "output_type": "display_data"
    }
   ],
   "source": [
    "etcmc = confusion_matrix(testey, etcPred)\n",
    "ConfusionMatrixDisplay(etcmc, display_labels=['positivo', 'negativo']).plot()"
   ]
  },
  {
   "cell_type": "code",
   "execution_count": null,
   "id": "ca3b453d-1218-4ec2-b424-5bbc637f62ed",
   "metadata": {},
   "outputs": [],
   "source": []
  }
 ],
 "metadata": {
  "kernelspec": {
   "display_name": "Python 3 (ipykernel)",
   "language": "python",
   "name": "python3"
  },
  "language_info": {
   "codemirror_mode": {
    "name": "ipython",
    "version": 3
   },
   "file_extension": ".py",
   "mimetype": "text/x-python",
   "name": "python",
   "nbconvert_exporter": "python",
   "pygments_lexer": "ipython3",
   "version": "3.11.6"
  }
 },
 "nbformat": 4,
 "nbformat_minor": 5
}
